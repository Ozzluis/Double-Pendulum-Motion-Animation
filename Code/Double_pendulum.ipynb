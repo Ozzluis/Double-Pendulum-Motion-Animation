{
 "cells": [
  {
   "cell_type": "code",
   "execution_count": 1,
   "metadata": {},
   "outputs": [
    {
     "data": {
      "text/plain": [
       "Plots.PyPlotBackend()"
      ]
     },
     "execution_count": 1,
     "metadata": {},
     "output_type": "execute_result"
    }
   ],
   "source": [
    "using Plots\n",
    "using DifferentialEquations\n",
    "\n",
    "pyplot()    # use pyplot() backend"
   ]
  },
  {
   "cell_type": "code",
   "execution_count": 2,
   "metadata": {},
   "outputs": [],
   "source": [
    "m1 = 1;                 # mass of pendulum 1 (in kg)\n",
    "m2 = 1;                 # mass of pendulum 2 (in kg)\n",
    "L1 = 1;                 # length of pendulum 1 (in meter)\n",
    "L2 = 1;                 # length of pendulum 2 (in meter)\n",
    "g = 9.8;                # gravitatioanl acceleration constant (m/s^2)\n",
    "\n",
    "u0 = [pi/1.6; 0; pi/1.8; 0];    # initial conditions. \n",
    "# u[1] = angle of the first pendulum\n",
    "# u[2] = angular velocity of the first pendulum\n",
    "# u[3] = angle of the second pendulum\n",
    "# u[4] = angular velocity of the second pendulum\n",
    "\n",
    "tfinal = 100.0;       # Final time. Simulation time = 0 to tfinal."
   ]
  },
  {
   "cell_type": "code",
   "execution_count": 3,
   "metadata": {},
   "outputs": [
    {
     "data": {
      "text/plain": [
       "double_pendulum (generic function with 1 method)"
      ]
     },
     "execution_count": 3,
     "metadata": {},
     "output_type": "execute_result"
    }
   ],
   "source": [
    "# Differential equations describing the system\n",
    "function double_pendulum(du,u,p,t)\n",
    "    # du = derivatives\n",
    "    # u = variables\n",
    "    # p = parameters\n",
    "    # t = time variable\n",
    "    \n",
    "    m1 = p[1];\n",
    "    m2 = p[2];\n",
    "    L1 = p[3];\n",
    "    L2 = p[4];\n",
    "    g = p[5];\n",
    "  \n",
    "    \n",
    "    c = cos(u[1]-u[3]);  # intermediate variables\n",
    "    s = sin(u[1]-u[3]);  # intermediate variables\n",
    "\n",
    "    \n",
    "    du[1] = u[2];   # d(theta 1)\n",
    "    du[2] = ( m2*g*sin(u[3])*c - m2*s*(L1*c*u[2]^2 + L2*u[4]^2) - (m1+m2)*g*sin(u[1]) ) /( L1 *(m1+m2*s^2) );\n",
    "    du[3] = u[4];   # d(theta 2)   \n",
    "    du[4] = ((m1+m2)*(L1*u[2]^2*s - g*sin(u[3]) + g*sin(u[1])*c) + m2*L2*u[4]^2*s*c) / (L2 * (m1 + m2*s^2));\n",
    "    \n",
    "end"
   ]
  },
  {
   "cell_type": "code",
   "execution_count": 4,
   "metadata": {},
   "outputs": [],
   "source": [
    "# Solving the system\n",
    "\n",
    "p = [m1;  m2;  L1;  L2;  g];\n",
    "tspan = (0.0,tfinal);  # Time span (limits). The actual time variable is automatically set by solve().\n",
    "prob = ODEProblem(double_pendulum,u0,tspan,p);\n",
    "sol = solve(prob,Vern7(),reltol=1e-6);\n",
    "\n",
    "#sol[1,:] = u1 = Θ_1\n",
    "#sol[2,:] = u2 = ω_1\n",
    "#sol[3,:] = u3 = Θ_2\n",
    "#sol[4,:] = u4 = ω_2\n",
    "#sol.t = t = time variable. The ODE solver automatically chooses the time steps. Note that t is not uniformly spaced.\n",
    "\n"
   ]
  },
  {
   "cell_type": "code",
   "execution_count": 5,
   "metadata": {},
   "outputs": [],
   "source": [
    "# Extract the variables from the solution \n",
    "\n",
    "tm = sol.t;\n",
    "\n",
    "# Mapping from polar to Cartesian\n",
    "x1 = L1*sin.(sol[1,:]);          # First Pendulum\n",
    "y1 = -L1*cos.(sol[1,:]);\n",
    "\n",
    "x2 = x1 + L2*sin.(sol[3,:]);     # Second Pendulum\n",
    "y2 = y1 - L2*cos.(sol[3,:]);"
   ]
  },
  {
   "cell_type": "code",
   "execution_count": 6,
   "metadata": {},
   "outputs": [
    {
     "name": "stdout",
     "output_type": "stream",
     "text": [
      "elapsed time: 71.723401986 seconds\n"
     ]
    },
    {
     "data": {
      "text/plain": [
       "71.723401986"
      ]
     },
     "execution_count": 6,
     "metadata": {},
     "output_type": "execute_result"
    }
   ],
   "source": [
    "# Animation setup\n",
    "# Refs.\n",
    "# 1. http://docs.juliaplots.org/latest/attributes/\n",
    "# 2. http://docs.juliaplots.org/latest/animations/\n",
    "\n",
    "L = L1 + L2;\n",
    "axis_lim = L*1.2;   # defining the limits of the axes\n",
    "\n",
    "\n",
    "tic()\n",
    "anim = Animation()\n",
    "#p = plot([sin,cos], 0, π, size=(200,200))\n",
    "\n",
    "for i =1:500\n",
    "    \n",
    "    str = string(\"Time = \", round(tm[i],1), \" sec\");\n",
    "    \n",
    "    plot([0,x1[i]], [0,y1[i]],size=(400,300),xlim=(-axis_lim,axis_lim),ylim=(-axis_lim,1),markersize = 10, markershape = :circle,label =\"\",axis = []);\n",
    "    plot!([x1[i],x2[i]], [y1[i],y2[i]],markersize = 10, markershape = :circle,label =\"\",title = str, title_location = :left, aspect_ratio = :equal);\n",
    "    \n",
    "    if i > 9\n",
    "        plot!([x2[i-3:i]], [y2[i-3:i]],alpha = 0.15,linewidth = 2, color = :red,label =\"\");\n",
    "        plot!([x2[i-5:i-3]], [y2[i-5:i-3]],alpha = 0.08,linewidth = 2, color = :red,label =\"\");\n",
    "        plot!([x2[i-7:i-5]], [y2[i-7:i-5]],alpha = 0.04,linewidth = 2, color = :red, label =\"\");\n",
    "        plot!([x2[i-9:i-7]], [y2[i-9:i-7]],alpha = 0.01,linewidth = 2, color = :red, label=\"\");\n",
    "        \n",
    "        \n",
    "    end\n",
    "    \n",
    "    \n",
    "    \n",
    "    \n",
    "    frame(anim)\n",
    "end\n",
    "\n",
    "toc()\n"
   ]
  },
  {
   "cell_type": "code",
   "execution_count": 10,
   "metadata": {},
   "outputs": [
    {
     "name": "stderr",
     "output_type": "stream",
     "text": [
      "\u001b[1m\u001b[36mINFO: \u001b[39m\u001b[22m\u001b[36mSaved animation to C:\\Users\\Asif\\Dropbox\\Julia Files\\Double Pendulum\\tmp.gif\n",
      "\u001b[39m"
     ]
    },
    {
     "data": {
      "text/html": [
       "<img src=\"tmp.gif?0.9376508963734287>\" />"
      ],
      "text/plain": [
       "Plots.AnimatedGif(\"C:\\\\Users\\\\Asif\\\\Dropbox\\\\Julia Files\\\\Double Pendulum\\\\tmp.gif\")"
      ]
     },
     "execution_count": 10,
     "metadata": {},
     "output_type": "execute_result"
    }
   ],
   "source": [
    "gif(anim,fps = 30)"
   ]
  },
  {
   "cell_type": "code",
   "execution_count": 90,
   "metadata": {},
   "outputs": [
    {
     "data": {
      "text/plain": [
       "1929"
      ]
     },
     "execution_count": 90,
     "metadata": {},
     "output_type": "execute_result"
    }
   ],
   "source": [
    "length(tm)"
   ]
  },
  {
   "cell_type": "code",
   "execution_count": 176,
   "metadata": {},
   "outputs": [
    {
     "ename": "LoadError",
     "evalue": "\u001b[91msyntax: unexpected \"]\" in argument list\u001b[39m",
     "output_type": "error",
     "traceback": [
      "\u001b[91msyntax: unexpected \"]\" in argument list\u001b[39m",
      ""
     ]
    }
   ],
   "source": [
    "str = string(\"Time = \", round(tm[4],1), \" sec\")\n",
    "\n",
    "plot(tm,x1,axis = []],title = str) "
   ]
  },
  {
   "cell_type": "code",
   "execution_count": null,
   "metadata": {},
   "outputs": [],
   "source": [
    "plot(q,markersize=10, markershape = :circle,xlim=(-2,2),ylim = (-2,2))"
   ]
  },
  {
   "cell_type": "code",
   "execution_count": 180,
   "metadata": {},
   "outputs": [
    {
     "data": {
      "image/png": "[encoded data removed]"
     },
     "execution_count": 180,
     "metadata": {},
     "output_type": "execute_result"
    }
   ],
   "source": [
    "plot(tm,x2,aspect_ratio = :equal)"
   ]
  },
  {
   "cell_type": "code",
   "execution_count": null,
   "metadata": {},
   "outputs": [],
   "source": []
  }
 ],
 "metadata": {
  "kernelspec": {
   "display_name": "Julia 0.6.3",
   "language": "julia",
   "name": "julia-0.6"
  },
  "language_info": {
   "file_extension": ".jl",
   "mimetype": "application/julia",
   "name": "julia",
   "version": "0.6.3"
  }
 },
 "nbformat": 4,
 "nbformat_minor": 2
}
